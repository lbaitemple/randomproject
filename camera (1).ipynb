{
 "cells": [
  {
   "cell_type": "code",
   "execution_count": 10,
   "id": "205362be-e1b9-491c-9c53-003edcf70aea",
   "metadata": {},
   "outputs": [],
   "source": [
    "from picamera import PiCamera\n",
    "from time import sleep\n",
    "import RPi.GPIO as GPIO\n",
    "\n",
    "\n",
    "GPIO.setmode(GPIO.BOARD)\n",
    "GPIO.setup(40, GPIO.OUT)\n",
    "\n",
    "camera = PiCamera()\n",
    "\n",
    "#camera.start_preview()\n",
    "#sleep(5)\n",
    "#camera.capture('/home/pi/image.jpg')\n",
    "\n",
    "def capturePic(camera, indx):   \n",
    "    camera.start_preview()\n",
    "    GPIO.output(40,True)\n",
    "    sleep(1)\n",
    "    camera.capture('/home/pi/cap/image{}.jpg'.format(indx))\n",
    "    camera.stop_preview()\n",
    "    GPIO.output(40,False)\n",
    "    sleep(2)\n",
    "    "
   ]
  },
  {
   "cell_type": "code",
   "execution_count": 11,
   "id": "eeb92ef7-a23b-42a5-9b7f-e64616e75f2f",
   "metadata": {},
   "outputs": [],
   "source": [
    "for i in range(0, 10):\n",
    "    capturePic(camera, i)"
   ]
  },
  {
   "cell_type": "code",
   "execution_count": 12,
   "id": "782b732b-249f-4073-8672-28ac9620b241",
   "metadata": {},
   "outputs": [],
   "source": [
    "camera.close()"
   ]
  },
  {
   "cell_type": "code",
   "execution_count": 3,
   "id": "4c615063-f6a4-4abf-a1cd-e5b493b74dbb",
   "metadata": {},
   "outputs": [],
   "source": [
    "\n"
   ]
  },
  {
   "cell_type": "code",
   "execution_count": 4,
   "id": "fad4efe0-3047-4682-b0a2-63b834627d9d",
   "metadata": {},
   "outputs": [],
   "source": []
  },
  {
   "cell_type": "code",
   "execution_count": null,
   "id": "e86c6de5-6fdf-4c8f-bd76-7dfdc9a6cac6",
   "metadata": {},
   "outputs": [],
   "source": []
  }
 ],
 "metadata": {
  "kernelspec": {
   "display_name": "Python 3 (ipykernel)",
   "language": "python",
   "name": "python3"
  },
  "language_info": {
   "codemirror_mode": {
    "name": "ipython",
    "version": 3
   },
   "file_extension": ".py",
   "mimetype": "text/x-python",
   "name": "python",
   "nbconvert_exporter": "python",
   "pygments_lexer": "ipython3",
   "version": "3.7.3"
  }
 },
 "nbformat": 4,
 "nbformat_minor": 5
}
